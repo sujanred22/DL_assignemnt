{
  "nbformat": 4,
  "nbformat_minor": 0,
  "metadata": {
    "colab": {
      "provenance": [],
      "authorship_tag": "ABX9TyPZKVAPsvPNEnMypY9yuWIh",
      "include_colab_link": true
    },
    "kernelspec": {
      "name": "python3",
      "display_name": "Python 3"
    },
    "language_info": {
      "name": "python"
    }
  },
  "cells": [
    {
      "cell_type": "markdown",
      "metadata": {
        "id": "view-in-github",
        "colab_type": "text"
      },
      "source": [
        "<a href=\"https://colab.research.google.com/github/sujanred22/DL_assignemnt/blob/main/DL_HW1.ipynb\" target=\"_parent\"><img src=\"https://colab.research.google.com/assets/colab-badge.svg\" alt=\"Open In Colab\"/></a>"
      ]
    },
    {
      "cell_type": "code",
      "source": [
        "import torch\n",
        "import torch.nn as nn\n",
        "import torch.optim as optim\n",
        "import matplotlib.pyplot as plt\n",
        "                                                                              \n",
        "# Define the neural network architecture\n",
        "class Net(nn.Module):\n",
        "    def __init__(self):\n",
        "        super(Net, self).__init__()\n",
        "        self.fc1 = nn.Linear(in_features=2, out_features=16)\n",
        "        self.fc2 = nn.Linear(in_features=16, out_features=1)\n",
        "\n",
        "    def forward(self, x):\n",
        "        x = torch.relu(self.fc1(x))\n",
        "        x = self.fc2(x)\n",
        "        return torch.sigmoid(x)\n",
        "\n",
        "# Generate some training and test data\n",
        "torch.manual_seed(42)\n",
        "train_data = torch.randn(200, 2)\n",
        "train_labels = ((train_data[:,0] > 0) & (train_data[:,1] > 0)).float().view(-1, 1)\n",
        "test_data = torch.randn(100, 2)\n",
        "test_labels = ((test_data[:,0] > 0) & (test_data[:,1] > 0)).float().view(-1, 1)\n",
        "\n",
        "# Initialize the neural network and the optimizer\n",
        "net = Net()\n",
        "optimizer = optim.SGD(net.parameters(), lr=0.1)\n",
        "\n",
        "# Define the loss function\n",
        "criterion = nn.BCELoss()\n",
        "\n",
        "# Train the neural network\n",
        "num_epochs = 1000\n",
        "train_loss = []\n",
        "test_loss = []\n",
        "for epoch in range(num_epochs):\n",
        "    # Forward pass\n",
        "    output = net(train_data)\n",
        "    loss = criterion(output, train_labels)\n",
        "\n",
        "    # Backward pass and weight update\n",
        "    optimizer.zero_grad()\n",
        "    loss.backward()\n",
        "    optimizer.step()\n",
        "\n",
        "    # Calculate training and test loss for plotting\n",
        "    train_loss.append(loss.item())\n",
        "    with torch.no_grad():\n",
        "        test_output = net(test_data)\n",
        "        test_loss.append(criterion(test_output, test_labels).item())\n",
        "\n",
        "# Plot the training and test loss curves\n",
        "plt.plot(train_loss, label='Training Loss')\n",
        "plt.plot(test_loss, label='Test Loss')\n",
        "plt.xlabel('Training Iterations')\n",
        "plt.ylabel('Loss')\n",
        "plt.legend()\n",
        "plt.show()\n"
      ],
      "metadata": {
        "colab": {
          "base_uri": "https://localhost:8080/",
          "height": 279
        },
        "id": "SCN03hXrUCf4",
        "outputId": "355fd795-5818-4b21-a424-0dee36b22482"
      },
      "execution_count": 3,
      "outputs": [
        {
          "output_type": "display_data",
          "data": {
            "text/plain": [
              "<Figure size 432x288 with 1 Axes>"
            ],
            "image/png": "[encoded data removed]"
          },
          "metadata": {
            "needs_background": "light"
          }
        }
      ]
    },
    {
      "cell_type": "code",
      "source": [],
      "metadata": {
        "id": "3oNIFORcanb7"
      },
      "execution_count": null,
      "outputs": []
    }
  ]
}